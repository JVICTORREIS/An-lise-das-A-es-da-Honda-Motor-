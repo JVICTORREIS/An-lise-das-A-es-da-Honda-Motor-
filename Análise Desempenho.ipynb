{
 "cells": [
  {
   "cell_type": "markdown",
   "id": "b1821092",
   "metadata": {},
   "source": [
    "# Descrição do Projeto\n",
    "\n",
    "Este projeto utiliza dados históricos de preços de ações da Honda Motor Co (HMC) entre 01 de janeiro de 2020 e 01 de maio de 2024 para analisar o desempenho e as tendências dessas ações. Com o objetivo de simplificar a manipulação e análise desses dados, a biblioteca pandasql é empregada, permitindo consultas em estilo SQL em DataFrames pandas.\n",
    "\n",
    "O conjunto de dados abrange uma ampla gama de informações relevantes, incluindo os preços diários de abertura, alta, baixa e fechamento das ações da Honda Motor Co, bem como os preços e o volume de fechamento ajustados. Por meio desses dados, diversas análises são conduzidas, como a identificação de tendências ao longo do período, o cálculo de métricas de desempenho, a investigação de padrões sazonais e a avaliação de correlações entre diferentes variáveis.\n",
    "\n",
    "Ao combinar os recursos da biblioteca pandasql com os dados disponíveis, este projeto visa fornecer insights valiosos sobre o comportamento do mercado de ações da Honda Motor Co ao longo do tempo. Essas análises podem ser úteis para investidores e analistas na tomada de decisões informadas e na formulação de estratégias de investimento mais sólidas.\n",
    "\n",
    "### Descrição dos Dados\n",
    "\n",
    "* Date (Data)\n",
    "* Preço de abertura (Open)\n",
    "* Preço máximo (High)\n",
    "* Preço mínimo (Low)\n",
    "* Preço de fechamento (Close)\n",
    "* Preço de fechamento ajustado (Adj Close)\n",
    "* Volume de negociações (Volume)"
   ]
  },
  {
   "cell_type": "markdown",
   "id": "601073c1",
   "metadata": {},
   "source": [
    "## Importando  Bibliotecas "
   ]
  },
  {
   "cell_type": "code",
   "execution_count": 1,
   "id": "c00a94b7",
   "metadata": {},
   "outputs": [
    {
     "name": "stdout",
     "output_type": "stream",
     "text": [
      "Requirement already satisfied: pandasql in c:\\users\\profj\\anaconda3\\lib\\site-packages (0.7.3)\n",
      "Requirement already satisfied: numpy in c:\\users\\profj\\anaconda3\\lib\\site-packages (from pandasql) (1.21.5)\n",
      "Requirement already satisfied: sqlalchemy in c:\\users\\profj\\anaconda3\\lib\\site-packages (from pandasql) (1.4.39)\n",
      "Requirement already satisfied: pandas in c:\\users\\profj\\anaconda3\\lib\\site-packages (from pandasql) (1.4.4)\n",
      "Requirement already satisfied: python-dateutil>=2.8.1 in c:\\users\\profj\\anaconda3\\lib\\site-packages (from pandas->pandasql) (2.8.2)\n",
      "Requirement already satisfied: pytz>=2020.1 in c:\\users\\profj\\anaconda3\\lib\\site-packages (from pandas->pandasql) (2022.1)\n",
      "Requirement already satisfied: greenlet!=0.4.17 in c:\\users\\profj\\anaconda3\\lib\\site-packages (from sqlalchemy->pandasql) (1.1.1)\n",
      "Requirement already satisfied: six>=1.5 in c:\\users\\profj\\anaconda3\\lib\\site-packages (from python-dateutil>=2.8.1->pandas->pandasql) (1.16.0)\n"
     ]
    }
   ],
   "source": [
    "!pip install pandasql\n",
    "import pandas as pd\n",
    "from pandasql import sqldf\n",
    "import matplotlib.pyplot as plt\n",
    "import seaborn as sns"
   ]
  },
  {
   "cell_type": "markdown",
   "id": "166b0e6b",
   "metadata": {},
   "source": [
    "## Carregando Dataset"
   ]
  },
  {
   "cell_type": "code",
   "execution_count": 2,
   "id": "9c052193",
   "metadata": {},
   "outputs": [],
   "source": [
    "df = pd.read_csv('HMC.csv')"
   ]
  },
  {
   "cell_type": "markdown",
   "id": "da687b95",
   "metadata": {},
   "source": [
    "## Exploração Inicial dos Dados"
   ]
  },
  {
   "cell_type": "code",
   "execution_count": 3,
   "id": "d190b189",
   "metadata": {},
   "outputs": [
    {
     "data": {
      "text/html": [
       "<div>\n",
       "<style scoped>\n",
       "    .dataframe tbody tr th:only-of-type {\n",
       "        vertical-align: middle;\n",
       "    }\n",
       "\n",
       "    .dataframe tbody tr th {\n",
       "        vertical-align: top;\n",
       "    }\n",
       "\n",
       "    .dataframe thead th {\n",
       "        text-align: right;\n",
       "    }\n",
       "</style>\n",
       "<table border=\"1\" class=\"dataframe\">\n",
       "  <thead>\n",
       "    <tr style=\"text-align: right;\">\n",
       "      <th></th>\n",
       "      <th>Date</th>\n",
       "      <th>Open</th>\n",
       "      <th>High</th>\n",
       "      <th>Low</th>\n",
       "      <th>Close</th>\n",
       "      <th>Adj Close</th>\n",
       "      <th>Volume</th>\n",
       "    </tr>\n",
       "  </thead>\n",
       "  <tbody>\n",
       "    <tr>\n",
       "      <th>0</th>\n",
       "      <td>2020-01-02</td>\n",
       "      <td>28.600000</td>\n",
       "      <td>28.650000</td>\n",
       "      <td>28.459999</td>\n",
       "      <td>28.639999</td>\n",
       "      <td>26.480253</td>\n",
       "      <td>262800</td>\n",
       "    </tr>\n",
       "    <tr>\n",
       "      <th>1</th>\n",
       "      <td>2020-01-03</td>\n",
       "      <td>28.250000</td>\n",
       "      <td>28.379999</td>\n",
       "      <td>28.080000</td>\n",
       "      <td>28.129999</td>\n",
       "      <td>26.008713</td>\n",
       "      <td>663600</td>\n",
       "    </tr>\n",
       "    <tr>\n",
       "      <th>2</th>\n",
       "      <td>2020-01-06</td>\n",
       "      <td>27.719999</td>\n",
       "      <td>28.059999</td>\n",
       "      <td>27.719999</td>\n",
       "      <td>28.049999</td>\n",
       "      <td>25.934746</td>\n",
       "      <td>463000</td>\n",
       "    </tr>\n",
       "    <tr>\n",
       "      <th>3</th>\n",
       "      <td>2020-01-07</td>\n",
       "      <td>28.389999</td>\n",
       "      <td>28.389999</td>\n",
       "      <td>28.180000</td>\n",
       "      <td>28.209999</td>\n",
       "      <td>26.082678</td>\n",
       "      <td>341800</td>\n",
       "    </tr>\n",
       "    <tr>\n",
       "      <th>4</th>\n",
       "      <td>2020-01-08</td>\n",
       "      <td>27.990000</td>\n",
       "      <td>28.219999</td>\n",
       "      <td>27.990000</td>\n",
       "      <td>28.129999</td>\n",
       "      <td>26.008713</td>\n",
       "      <td>264200</td>\n",
       "    </tr>\n",
       "  </tbody>\n",
       "</table>\n",
       "</div>"
      ],
      "text/plain": [
       "         Date       Open       High        Low      Close  Adj Close  Volume\n",
       "0  2020-01-02  28.600000  28.650000  28.459999  28.639999  26.480253  262800\n",
       "1  2020-01-03  28.250000  28.379999  28.080000  28.129999  26.008713  663600\n",
       "2  2020-01-06  27.719999  28.059999  27.719999  28.049999  25.934746  463000\n",
       "3  2020-01-07  28.389999  28.389999  28.180000  28.209999  26.082678  341800\n",
       "4  2020-01-08  27.990000  28.219999  27.990000  28.129999  26.008713  264200"
      ]
     },
     "execution_count": 3,
     "metadata": {},
     "output_type": "execute_result"
    }
   ],
   "source": [
    "# Verificando a Estrutura\n",
    "\n",
    "df.head()"
   ]
  },
  {
   "cell_type": "code",
   "execution_count": 4,
   "id": "d96fc093",
   "metadata": {},
   "outputs": [
    {
     "data": {
      "text/plain": [
       "(1089, 7)"
      ]
     },
     "execution_count": 4,
     "metadata": {},
     "output_type": "execute_result"
    }
   ],
   "source": [
    "# Verificando a Dimensão \n",
    "\n",
    "df.shape"
   ]
  },
  {
   "cell_type": "code",
   "execution_count": 5,
   "id": "167d03f2",
   "metadata": {},
   "outputs": [
    {
     "name": "stdout",
     "output_type": "stream",
     "text": [
      "<class 'pandas.core.frame.DataFrame'>\n",
      "RangeIndex: 1089 entries, 0 to 1088\n",
      "Data columns (total 7 columns):\n",
      " #   Column     Non-Null Count  Dtype  \n",
      "---  ------     --------------  -----  \n",
      " 0   Date       1089 non-null   object \n",
      " 1   Open       1089 non-null   float64\n",
      " 2   High       1089 non-null   float64\n",
      " 3   Low        1089 non-null   float64\n",
      " 4   Close      1089 non-null   float64\n",
      " 5   Adj Close  1089 non-null   float64\n",
      " 6   Volume     1089 non-null   int64  \n",
      "dtypes: float64(5), int64(1), object(1)\n",
      "memory usage: 59.7+ KB\n"
     ]
    }
   ],
   "source": [
    "# Verificar os tipos de dados\n",
    "\n",
    "df.info()"
   ]
  },
  {
   "cell_type": "code",
   "execution_count": 6,
   "id": "831fc3c0",
   "metadata": {},
   "outputs": [
    {
     "data": {
      "text/plain": [
       "Date         0\n",
       "Open         0\n",
       "High         0\n",
       "Low          0\n",
       "Close        0\n",
       "Adj Close    0\n",
       "Volume       0\n",
       "dtype: int64"
      ]
     },
     "execution_count": 6,
     "metadata": {},
     "output_type": "execute_result"
    }
   ],
   "source": [
    "# Verificar valores ausentes\n",
    "\n",
    "df.isnull().sum()"
   ]
  },
  {
   "cell_type": "code",
   "execution_count": 7,
   "id": "a35fe91e",
   "metadata": {
    "scrolled": true
   },
   "outputs": [
    {
     "data": {
      "text/html": [
       "<div>\n",
       "<style scoped>\n",
       "    .dataframe tbody tr th:only-of-type {\n",
       "        vertical-align: middle;\n",
       "    }\n",
       "\n",
       "    .dataframe tbody tr th {\n",
       "        vertical-align: top;\n",
       "    }\n",
       "\n",
       "    .dataframe thead th {\n",
       "        text-align: right;\n",
       "    }\n",
       "</style>\n",
       "<table border=\"1\" class=\"dataframe\">\n",
       "  <thead>\n",
       "    <tr style=\"text-align: right;\">\n",
       "      <th></th>\n",
       "      <th>Open</th>\n",
       "      <th>High</th>\n",
       "      <th>Low</th>\n",
       "      <th>Close</th>\n",
       "      <th>Adj Close</th>\n",
       "      <th>Volume</th>\n",
       "    </tr>\n",
       "  </thead>\n",
       "  <tbody>\n",
       "    <tr>\n",
       "      <th>count</th>\n",
       "      <td>1089.000000</td>\n",
       "      <td>1089.000000</td>\n",
       "      <td>1089.000000</td>\n",
       "      <td>1089.000000</td>\n",
       "      <td>1089.000000</td>\n",
       "      <td>1.089000e+03</td>\n",
       "    </tr>\n",
       "    <tr>\n",
       "      <th>mean</th>\n",
       "      <td>28.221478</td>\n",
       "      <td>28.398834</td>\n",
       "      <td>28.030459</td>\n",
       "      <td>28.218999</td>\n",
       "      <td>27.471148</td>\n",
       "      <td>9.757522e+05</td>\n",
       "    </tr>\n",
       "    <tr>\n",
       "      <th>std</th>\n",
       "      <td>3.609212</td>\n",
       "      <td>3.597729</td>\n",
       "      <td>3.621967</td>\n",
       "      <td>3.610751</td>\n",
       "      <td>3.811920</td>\n",
       "      <td>4.494060e+05</td>\n",
       "    </tr>\n",
       "    <tr>\n",
       "      <th>min</th>\n",
       "      <td>20.000000</td>\n",
       "      <td>20.120001</td>\n",
       "      <td>19.379999</td>\n",
       "      <td>19.860001</td>\n",
       "      <td>18.362356</td>\n",
       "      <td>2.097000e+05</td>\n",
       "    </tr>\n",
       "    <tr>\n",
       "      <th>25%</th>\n",
       "      <td>25.379999</td>\n",
       "      <td>25.540001</td>\n",
       "      <td>25.260000</td>\n",
       "      <td>25.389999</td>\n",
       "      <td>24.440861</td>\n",
       "      <td>6.740000e+05</td>\n",
       "    </tr>\n",
       "    <tr>\n",
       "      <th>50%</th>\n",
       "      <td>28.170000</td>\n",
       "      <td>28.330000</td>\n",
       "      <td>27.969999</td>\n",
       "      <td>28.180000</td>\n",
       "      <td>26.965633</td>\n",
       "      <td>9.086000e+05</td>\n",
       "    </tr>\n",
       "    <tr>\n",
       "      <th>75%</th>\n",
       "      <td>30.740000</td>\n",
       "      <td>30.920000</td>\n",
       "      <td>30.570000</td>\n",
       "      <td>30.740000</td>\n",
       "      <td>30.196468</td>\n",
       "      <td>1.196400e+06</td>\n",
       "    </tr>\n",
       "    <tr>\n",
       "      <th>max</th>\n",
       "      <td>37.660000</td>\n",
       "      <td>37.900002</td>\n",
       "      <td>37.599998</td>\n",
       "      <td>37.680000</td>\n",
       "      <td>37.680000</td>\n",
       "      <td>3.950600e+06</td>\n",
       "    </tr>\n",
       "  </tbody>\n",
       "</table>\n",
       "</div>"
      ],
      "text/plain": [
       "              Open         High          Low        Close    Adj Close  \\\n",
       "count  1089.000000  1089.000000  1089.000000  1089.000000  1089.000000   \n",
       "mean     28.221478    28.398834    28.030459    28.218999    27.471148   \n",
       "std       3.609212     3.597729     3.621967     3.610751     3.811920   \n",
       "min      20.000000    20.120001    19.379999    19.860001    18.362356   \n",
       "25%      25.379999    25.540001    25.260000    25.389999    24.440861   \n",
       "50%      28.170000    28.330000    27.969999    28.180000    26.965633   \n",
       "75%      30.740000    30.920000    30.570000    30.740000    30.196468   \n",
       "max      37.660000    37.900002    37.599998    37.680000    37.680000   \n",
       "\n",
       "             Volume  \n",
       "count  1.089000e+03  \n",
       "mean   9.757522e+05  \n",
       "std    4.494060e+05  \n",
       "min    2.097000e+05  \n",
       "25%    6.740000e+05  \n",
       "50%    9.086000e+05  \n",
       "75%    1.196400e+06  \n",
       "max    3.950600e+06  "
      ]
     },
     "execution_count": 7,
     "metadata": {},
     "output_type": "execute_result"
    }
   ],
   "source": [
    "# Resumo Estatístico \n",
    "\n",
    "df.describe()"
   ]
  },
  {
   "cell_type": "code",
   "execution_count": 8,
   "id": "4716fa8c",
   "metadata": {},
   "outputs": [
    {
     "data": {
      "text/plain": [
       "Date         1089\n",
       "Open          733\n",
       "High          726\n",
       "Low           741\n",
       "Close         745\n",
       "Adj Close     955\n",
       "Volume       1040\n",
       "dtype: int64"
      ]
     },
     "execution_count": 8,
     "metadata": {},
     "output_type": "execute_result"
    }
   ],
   "source": [
    "# Verificar valores únicos\n",
    "\n",
    "df.nunique()"
   ]
  },
  {
   "cell_type": "code",
   "execution_count": 9,
   "id": "a339f2ba",
   "metadata": {},
   "outputs": [],
   "source": [
    "# Conversão de datas\n",
    "\n",
    "df['Date'] = pd.to_datetime(df['Date'])"
   ]
  },
  {
   "cell_type": "code",
   "execution_count": 10,
   "id": "14ab8e44",
   "metadata": {},
   "outputs": [
    {
     "data": {
      "image/png": "[encoded data removed]",
      "text/plain": [
       "<Figure size 1000x800 with 2 Axes>"
      ]
     },
     "metadata": {},
     "output_type": "display_data"
    }
   ],
   "source": [
    "# Correlação entre as variáveis \n",
    "\n",
    "correlation_matrix = df.corr()\n",
    "\n",
    "# Plot\n",
    "\n",
    "plt.figure(figsize=(10, 8))\n",
    "sns.heatmap(correlation_matrix, annot=True, cmap='coolwarm', fmt=\".2f\")\n",
    "plt.title('Matriz de Correlação')\n",
    "plt.show()\n"
   ]
  },
  {
   "cell_type": "markdown",
   "id": "72033e78",
   "metadata": {},
   "source": [
    "## Perguntas de Negócio "
   ]
  },
  {
   "cell_type": "markdown",
   "id": "1c632578",
   "metadata": {},
   "source": [
    "1_ Qual o preço de fechamento médio das ações da Honda Motor durante o período?"
   ]
  },
  {
   "cell_type": "code",
   "execution_count": 11,
   "id": "3907e751",
   "metadata": {},
   "outputs": [
    {
     "name": "stdout",
     "output_type": "stream",
     "text": [
      "   Media_Preco_Fechamento\n",
      "0               28.609227\n"
     ]
    }
   ],
   "source": [
    "query1 = \"\"\"\n",
    "\n",
    "SELECT \n",
    "    AVG(Close) as Media_Preco_Fechamento\n",
    "FROM df\n",
    "WHERE Date >= DATE('now', '-4 year');\n",
    "\"\"\"\n",
    "\n",
    "resultado = sqldf(query1)\n",
    "\n",
    "print(resultado)"
   ]
  },
  {
   "cell_type": "markdown",
   "id": "a7575719",
   "metadata": {},
   "source": [
    "* Insight: A consulta oferece uma medida central dos preços de fechamento das ações da Honda Motor em um intervalo de 4 anos. Essa informação possibilita uma compreensão abrangente das tendências de preço ao longo desse período, sendo útil para análises de desempenho, comparações históricas e tomada de decisões de investimento."
   ]
  },
  {
   "cell_type": "markdown",
   "id": "f6bc8b25",
   "metadata": {},
   "source": [
    "\n",
    "2_ Qual foi o preço máximo atingido pelas ações da Honda Motor durante todo o período analisado?"
   ]
  },
  {
   "cell_type": "code",
   "execution_count": 12,
   "id": "82658506",
   "metadata": {},
   "outputs": [
    {
     "name": "stdout",
     "output_type": "stream",
     "text": [
      "   Preco_Maximo\n",
      "0     37.900002\n"
     ]
    }
   ],
   "source": [
    "query2 = \"\"\" SELECT Max (High) as Preco_Maximo FROM df \"\"\"\n",
    "\n",
    "resultado2 = sqldf(query2)\n",
    "\n",
    "print(resultado2)"
   ]
  },
  {
   "cell_type": "markdown",
   "id": "7a054990",
   "metadata": {},
   "source": [
    "* Insight: Descobrir o preço máximo alcançado durante o período é crucial para compreender o comportamento dos preços das ações da Honda Motor ao longo da análise. Esse valor representa o ponto mais alto atingido pelas ações, fornecendo uma perspectiva sobre seu potencial de valorização e indicando níveis de resistência significativos no mercado."
   ]
  },
  {
   "cell_type": "markdown",
   "id": "35529b9e",
   "metadata": {},
   "source": [
    "3_  Qual foi o preço mínimo atingido pelas ações da Honda Motor durante todo o período analisado?"
   ]
  },
  {
   "cell_type": "code",
   "execution_count": 13,
   "id": "0b27fb00",
   "metadata": {},
   "outputs": [
    {
     "name": "stdout",
     "output_type": "stream",
     "text": [
      "   Preco_Mínimo\n",
      "0     20.120001\n"
     ]
    }
   ],
   "source": [
    "query8 = \"\"\"\n",
    "SELECT Min (High) as Preco_Mínimo FROM df \"\"\"\n",
    "\n",
    "resultado8 = sqldf(query8)\n",
    "\n",
    "print(resultado8)"
   ]
  },
  {
   "cell_type": "markdown",
   "id": "84b6776f",
   "metadata": {},
   "source": [
    "* Insight: Entender os valores mínimos que as ações atingem é crucial para compreender a volatilidade do mercado de ações. Esse conhecimento permite identificar pontos de suporte, avaliar o risco de desvalorização e formular estratégias de investimento mais eficazes. Além disso, fornece um contexto histórico importante para prever possíveis reações do mercado a eventos futuros. A identificação dos preços mínimos também auxilia na gestão de riscos e na tomada de decisões informadas, garantindo uma abordagem mais robusta e resiliente ao lidar com a dinâmica do mercado financeiro."
   ]
  },
  {
   "cell_type": "markdown",
   "id": "3bb2b3c9",
   "metadata": {},
   "source": [
    "4_ Quais foram os cinco dias com os maiores volumes de negociações durante o período analisado?"
   ]
  },
  {
   "cell_type": "code",
   "execution_count": 14,
   "id": "296613c8",
   "metadata": {},
   "outputs": [
    {
     "name": "stdout",
     "output_type": "stream",
     "text": [
      "                         Date   Volume\n",
      "0  2021-02-24 00:00:00.000000  3950600\n",
      "1  2020-05-26 00:00:00.000000  3942500\n",
      "2  2020-05-28 00:00:00.000000  3798600\n",
      "3  2024-03-20 00:00:00.000000  3765800\n",
      "4  2021-04-29 00:00:00.000000  3718600\n"
     ]
    }
   ],
   "source": [
    "query4 = \"\"\" \n",
    "SELECT Date, Volume FROM df\n",
    "ORDER BY Volume Desc\n",
    "LIMIT 5 \"\"\"\n",
    "\n",
    "resultado4 = sqldf(query4)\n",
    "\n",
    "print(resultado4)"
   ]
  },
  {
   "cell_type": "markdown",
   "id": "a512e959",
   "metadata": {},
   "source": [
    "*Insight: Entender os dias de maior volume de negociação é fundamental para compreender os eventos que impulsionam o aumento das transações, o que, por sua vez, é crucial para compreender os comportamentos futuros no mercado de ações. "
   ]
  },
  {
   "cell_type": "markdown",
   "id": "be8317b3",
   "metadata": {},
   "source": [
    "5_ Qual foi a média dos preços de fechamento das ações da Honda Motor Co durante cada mês do período analisado?"
   ]
  },
  {
   "cell_type": "code",
   "execution_count": 15,
   "id": "9e6202be",
   "metadata": {},
   "outputs": [
    {
     "name": "stdout",
     "output_type": "stream",
     "text": [
      "        Mes  Media_Preco_Fechamento\n",
      "0   2020-01               27.461904\n",
      "1   2020-02               26.542105\n",
      "2   2020-03               22.924091\n",
      "3   2020-04               22.118095\n",
      "4   2020-05               23.898500\n",
      "5   2020-06               26.754091\n",
      "6   2020-07               25.758636\n",
      "7   2020-08               25.416667\n",
      "8   2020-09               24.690000\n",
      "9   2020-10               24.254091\n",
      "10  2020-11               27.670000\n",
      "11  2020-12               29.131363\n",
      "12  2021-01               27.680000\n",
      "13  2021-02               28.408947\n",
      "14  2021-03               29.979565\n",
      "15  2021-04               30.147619\n",
      "16  2021-05               30.543500\n",
      "17  2021-06               32.434546\n",
      "18  2021-07               31.866667\n",
      "19  2021-08               31.615000\n",
      "20  2021-09               30.916667\n",
      "21  2021-10               30.157143\n",
      "22  2021-11               29.040000\n",
      "23  2021-12               28.108636\n",
      "24  2022-01               29.749000\n",
      "25  2022-02               30.588947\n",
      "26  2022-03               28.042609\n",
      "27  2022-04               26.423500\n",
      "28  2022-05               25.427143\n",
      "29  2022-06               24.862857\n",
      "30  2022-07               24.756000\n",
      "31  2022-08               26.473044\n",
      "32  2022-09               24.460000\n",
      "33  2022-10               22.285714\n",
      "34  2022-11               23.642381\n",
      "35  2022-12               23.556667\n",
      "36  2023-01               23.969000\n",
      "37  2023-02               25.307895\n",
      "38  2023-03               25.907826\n",
      "39  2023-04               26.323158\n",
      "40  2023-05               27.623182\n",
      "41  2023-06               30.592857\n",
      "42  2023-07               30.800500\n",
      "43  2023-08               31.238696\n",
      "44  2023-09               34.570000\n",
      "45  2023-10               32.608636\n",
      "46  2023-11               31.526190\n",
      "47  2023-12               30.469500\n",
      "48  2024-01               32.150000\n",
      "49  2024-02               34.748000\n",
      "50  2024-03               36.298000\n",
      "51  2024-04               35.422273\n"
     ]
    }
   ],
   "source": [
    "query5 = \"\"\"\n",
    "SELECT strftime('%Y-%m', Date) AS Mes, AVG(Close) AS Media_Preco_Fechamento\n",
    "FROM df\n",
    "GROUP BY strftime('%Y-%m', Date)\n",
    "\"\"\"\n",
    "\n",
    "resultado5 = sqldf(query5)\n",
    "\n",
    "print(resultado5)"
   ]
  },
  {
   "cell_type": "markdown",
   "id": "c4fbae70",
   "metadata": {},
   "source": [
    "Insight: Entender essa métrica é crucial para obter uma visão mensal do desempenho das ações, o que permite identificar padrões sazonais, tendências de mercado e flutuações nos preços."
   ]
  },
  {
   "cell_type": "markdown",
   "id": "bb8adf8d",
   "metadata": {},
   "source": [
    "6 _ Houve alguma tendência de alta ou baixa nos preços de fechamento ajustados das ações da Honda Motor ao longo do tempo?"
   ]
  },
  {
   "cell_type": "code",
   "execution_count": 16,
   "id": "240a7039",
   "metadata": {},
   "outputs": [
    {
     "name": "stdout",
     "output_type": "stream",
     "text": [
      "Houve uma tendência de alta nos preços de fechamento ajustados das ações da Honda Motor ao longo do tempo.\n"
     ]
    }
   ],
   "source": [
    "query6 = \"\"\" SELECT Date, AVG(`Adj Close`) as Media_Preco_Fechamento_Ajustado FROM df GROUP BY Date \"\"\"\n",
    "\n",
    "# Executando a query\n",
    "resultado5 = sqldf(query6)\n",
    "\n",
    "# Calcular a tendência\n",
    "tendencia = pd.Series(resultado5['Media_Preco_Fechamento_Ajustado']).diff().mean()\n",
    "\n",
    "# Analisar os resultados\n",
    "if tendencia > 0:\n",
    "    print(\"Houve uma tendência de alta nos preços de fechamento ajustados das ações da Honda Motor ao longo do tempo.\")\n",
    "elif tendencia < 0:\n",
    "    print(\"Houve uma tendência de baixa nos preços de fechamento ajustados das ações da Honda Motor ao longo do tempo.\")\n",
    "else:\n",
    "    print(\"Não houve uma tendência clara nos preços de fechamento ajustados das ações da Honda Motor ao longo do tempo.\")"
   ]
  },
  {
   "cell_type": "markdown",
   "id": "5ff44baa",
   "metadata": {},
   "source": [
    "* Insight: Esta análise sugere uma tendência de alta nos preços de fechamento ajustados das ações ao longo do período analisado, fornecendo indicações valiosas sobre tendências do mercado. "
   ]
  },
  {
   "cell_type": "markdown",
   "id": "8b8b9b06",
   "metadata": {},
   "source": [
    "7_ Verifique se há relação entre o preço de fechamento e o preços máximo das ações da Honda Motor em durante o último ano analisado?"
   ]
  },
  {
   "cell_type": "code",
   "execution_count": 17,
   "id": "1ff8c3b0",
   "metadata": {},
   "outputs": [
    {
     "name": "stdout",
     "output_type": "stream",
     "text": [
      "   Media_Preco_Fechamento  Media_Preco_Maximo\n",
      "0               32.781184           32.942675\n"
     ]
    }
   ],
   "source": [
    "query7 = \"\"\"\n",
    "SELECT AVG(Close) as Media_Preco_Fechamento, AVG(High) as Media_Preco_Maximo\n",
    "FROM df\n",
    "WHERE Date >= DATE('now', '-1 year')\n",
    "\"\"\"\n",
    "\n",
    "resultado7 = sqldf(query7)\n",
    "\n",
    "print(resultado7)"
   ]
  },
  {
   "cell_type": "markdown",
   "id": "e412f32b",
   "metadata": {},
   "source": [
    "* Insight: Essa consulta permite comparar a média dos preços de fechamento e dos preços máximos das ações. Com isso, é possível compreender o comportamento dos preços das ações ao longo do período, facilitando uma avaliação geral do desempenho das ações nesse intervalo de tempo específico."
   ]
  },
  {
   "cell_type": "markdown",
   "id": "f619a87a",
   "metadata": {},
   "source": [
    "8_ Quais foram os dias com as maiores variações percentuais nos preços de fechamento das ações da Honda Motor durante o período analisado? "
   ]
  },
  {
   "cell_type": "code",
   "execution_count": 18,
   "id": "6f8a1d78",
   "metadata": {},
   "outputs": [
    {
     "name": "stdout",
     "output_type": "stream",
     "text": [
      "                         Date      Close  Variacao_Percentual\n",
      "0  2020-05-26 00:00:00.000000  25.990000            10.080470\n",
      "1  2020-03-24 00:00:00.000000  21.740000             9.466258\n",
      "2  2020-04-06 00:00:00.000000  21.480000             8.157094\n",
      "3  2020-04-17 00:00:00.000000  22.629999             7.710609\n",
      "4  2022-08-10 00:00:00.000000  26.790001             7.202885\n"
     ]
    }
   ],
   "source": [
    "query8 = \"\"\"\n",
    "SELECT Date, Close, ((Close - LAG(Close, 1) \n",
    "OVER (ORDER BY Date)) / LAG(Close, 1) OVER (ORDER BY Date)) * 100 AS Variacao_Percentual\n",
    "FROM df\n",
    "ORDER BY Variacao_Percentual DESC\n",
    "LIMIT 5\n",
    "\"\"\"\n",
    "resultado8 = sqldf(query8)\n",
    "\n",
    "print(resultado8)"
   ]
  },
  {
   "cell_type": "markdown",
   "id": "09f499ce",
   "metadata": {},
   "source": [
    "* Insight: A análise revela os dias com as maiores variações percentuais nos preços de fechamento das ações da Honda Motor ao longo do período analisado. Contudo, esses dias podem indicar eventos impactantes no mercado, fornecendo informações cruciais sobre a volatilidade. "
   ]
  }
 ],
 "metadata": {
  "kernelspec": {
   "display_name": "Python 3 (ipykernel)",
   "language": "python",
   "name": "python3"
  },
  "language_info": {
   "codemirror_mode": {
    "name": "ipython",
    "version": 3
   },
   "file_extension": ".py",
   "mimetype": "text/x-python",
   "name": "python",
   "nbconvert_exporter": "python",
   "pygments_lexer": "ipython3",
   "version": "3.9.13"
  }
 },
 "nbformat": 4,
 "nbformat_minor": 5
}
